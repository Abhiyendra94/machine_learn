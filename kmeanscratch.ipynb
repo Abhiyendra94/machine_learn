{
 "cells": [
  {
   "cell_type": "code",
   "execution_count": 1,
   "metadata": {},
   "outputs": [],
   "source": [
    "import numpy as np\n",
    "import matplotlib.pyplot as plt"
   ]
  },
  {
   "cell_type": "code",
   "execution_count": 2,
   "metadata": {},
   "outputs": [],
   "source": [
    "def dis(a,b):\n",
    "    diff=a-b\n",
    "    return diff.dot(diff)"
   ]
  },
  {
   "cell_type": "code",
   "execution_count": 3,
   "metadata": {},
   "outputs": [],
   "source": [
    "#calculates distance squared between two vectors "
   ]
  },
  {
   "cell_type": "code",
   "execution_count": 4,
   "metadata": {},
   "outputs": [],
   "source": [
    "\n",
    "def plot_k_means(x,k,maxiter=20,beta=1.0):\n",
    "    n,d=x.shape #n samples d features\n",
    "    m=np.zeros((k,d))#init k means\n",
    "    r=np.zeros((n,k))#because each sample belongs partially to each cluster\n",
    "    for i in range(k):\n",
    "        m[i]=x[np.random.choice(n)]#init to random k points in x\n",
    "    \n",
    "    costs=np.zeros(maxiter)\n",
    "    for I in range(maxiter):\n",
    "        \n",
    "        for K in range(k):\n",
    "            for N in range(n):\n",
    "                r[N,K]= np.exp(-beta*dis(m[K], x[N])) / np.sum( np.exp(-beta*dis(m[j], x[N])) for j in range(k) )\n",
    "                \n",
    "        for K in range(k):\n",
    "            m[K]=r[:,K].dot(x)/r[:,K].sum()\n",
    "            \n",
    "        costs[I]=cost(x,r,m)\n",
    "        costret=costs[I]\n",
    "        if I>0:\n",
    "            if np.abs(costs[I]-costs[I-1])<1e-5:\n",
    "             \n",
    "                break\n",
    "                \n",
    "    return costret"
   ]
  },
  {
   "cell_type": "code",
   "execution_count": null,
   "metadata": {},
   "outputs": [],
   "source": []
  },
  {
   "cell_type": "code",
   "execution_count": 5,
   "metadata": {},
   "outputs": [],
   "source": [
    "def cost(x,r,m):\n",
    "    cost=0\n",
    "    for K in range(len(m)):\n",
    "        for N in range(len(x)):\n",
    "            cost+=r[N,K]*dis(m[K],x[N])\n",
    "    return cost\n"
   ]
  },
  {
   "cell_type": "code",
   "execution_count": null,
   "metadata": {},
   "outputs": [],
   "source": []
  }
 ],
 "metadata": {
  "kernelspec": {
   "display_name": "Python 3",
   "language": "python",
   "name": "python3"
  },
  "language_info": {
   "codemirror_mode": {
    "name": "ipython",
    "version": 3
   },
   "file_extension": ".py",
   "mimetype": "text/x-python",
   "name": "python",
   "nbconvert_exporter": "python",
   "pygments_lexer": "ipython3",
   "version": "3.6.4"
  }
 },
 "nbformat": 4,
 "nbformat_minor": 2
}
